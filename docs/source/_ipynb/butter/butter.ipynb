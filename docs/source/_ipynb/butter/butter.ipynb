{
 "cells": [
  {
   "cell_type": "markdown",
   "id": "79e7c63b",
   "metadata": {},
   "source": [
    "# Sweet Butter 🧈\n",
    "\n",
    "Sweet Butter is a shortest paths problem by Greg Galperin from the [USACO training pages](https://train.usaco.org/):\n",
    "\n",
    "> *Farmer John has discovered the secret to making the sweetest butter in all of Wisconsin: sugar. By placing a sugar cube out in the pastures, he knows the cows will lick it and thus will produce super-sweet butter which can be marketed at better prices. Of course, he spends the extra money on luxuries for the cows.*\n",
    ">\n",
    "> *FJ is a sly farmer. Like Pavlov of old, he knows he can train the cows to go to a certain pasture when they hear a bell. He intends to put the sugar there and then ring the bell in the middle of the afternoon so that the evening's milking produces perfect milk.*\n",
    ">\n",
    "> *FJ knows each cow spends her time in a given pasture (not necessarily alone). Given the pasture location of the cows and a description of the paths that connect the pastures, find the pasture in which to place the sugar cube so that the total distance walked by the cows when FJ rings the bell is minimized. FJ knows the fields are connected well enough that some solution is always possible.*\n",
    "\n",
    "Rephrased:\n",
    "\n",
    "> Given a connected undirected weighted graph with some active nodes, find the node that minimizes the total distance taken from every active node to it.\n",
    "\n",
    "The key concepts for this problem are:\n",
    "\n",
    "- **Node**: pasture.\n",
    "- **Weighted Edge**: length of a direct connection between two pastures. \n",
    "- **Undirected**: edges can be traversed in both directions.\n",
    "- **Shortest Path**: minimal sum of edge weights to get from pasture A to pasture B. (Other problems may want this as a number of edges or sequence of nodes taken.)\n",
    "- **Adjacency List**: a data structure to represent a [graph](https://en.wikipedia.org/wiki/Graph_%28discrete_mathematics%29). Each node *x* in the graph is assigned an [adjacency list](https://en.wikipedia.org/wiki/Adjacency_list) that consists of nodes to where there is an edge from *x*.\n",
    "- **Dijkstra's Algorithm**: an algorithm for finding the shortest paths from a starting node to all other nodes.  \n",
    " - **Greedy**: a type of algorithm (e.g. Dijkstra's) that constructs its solution by always making a choice that looks best at the moment.\n",
    " - **Heap**: a data structure that gives easy access and removal of the minimum or maximum element. Used to implement a priority queue.\n",
    "\n",
    "Related concepts are:\n",
    "\n",
    "- **Adjacency Matrix**: a data structure to represent a graph.\n",
    "- **Floyd-Warshall Algorithm**: a shortest paths algorithm.\n",
    "\n",
    "## Imports, Types, and Utility Functions"
   ]
  },
  {
   "cell_type": "code",
   "execution_count": 1,
   "id": "4c465ed3",
   "metadata": {},
   "outputs": [],
   "source": [
    "import matplotlib.pyplot as plt\n",
    "import networkx          as nx\n",
    "import heapq\n",
    "from typing      import *\n",
    "from collections import defaultdict\n",
    "\n",
    "Cow  = Dict[int, int]               # A cow and its pasture\n",
    "Edge = Tuple[int, int]              # A pasture and connection length\n",
    "Adj  = DefaultDict[int, List[Edge]] # Adjacency list, e.g. {1: [(2, 1), (3, 5)], 2: [(1, 1), (3, 7), (4, 3)], ...}\n",
    "Data = Tuple[Cow, Adj]              # Data read from input\n",
    "Dist = Dict[int, int]               # Shortest paths"
   ]
  },
  {
   "cell_type": "code",
   "execution_count": 2,
   "id": "a5e9d3c3",
   "metadata": {},
   "outputs": [],
   "source": [
    "def read_input(file: str='butter.in') -> Data:\n",
    "    \"\"\"Store cow locations and adjacency list from input data.\"\"\"\n",
    "    cow, adj = {}, defaultdict(list)\n",
    "    with open(file) as f:\n",
    "        C, V, E = map(int, f.readline().split())     # cows, vertices (nodes), edges\n",
    "        for i in range(1, C + 1):\n",
    "            cow[i] = int(f.readline())\n",
    "        for _ in range(E):\n",
    "            u, v, w = map(int, f.readline().split()) # undirected edge connecting u and v with weight w\n",
    "            adj[u].append((v, w))\n",
    "            adj[v].append((u, w))\n",
    "    return cow, adj"
   ]
  },
  {
   "cell_type": "code",
   "execution_count": 3,
   "id": "31be6d31",
   "metadata": {},
   "outputs": [],
   "source": [
    "def draw_graph(data: Data, is_large: bool=False):\n",
    "    \"\"\"Visualize an adjacency list and show cows in each node.\"\"\"\n",
    "    cow, adj = data\n",
    "    G = nx.Graph()\n",
    "    for u in adj:\n",
    "        G.add_node(u, cow=0)\n",
    "        for edge in adj[u]:\n",
    "            v, w = edge[0], edge[1]\n",
    "            G.add_edge(u, v, weight=w)\n",
    "    for i in cow:\n",
    "        G.nodes[cow[i]]['cow'] += 1\n",
    "        \n",
    "    if is_large: \n",
    "        plt.figure(1, figsize=(75, 75))\n",
    "        \n",
    "    # draw nodes\n",
    "    layout = nx.circular_layout(G) # positions for all nodes\n",
    "    nx.draw(G, pos=layout, with_labels=True, node_color=\"lightgreen\")\n",
    "    \n",
    "    # draw cow attribute label above nodes\n",
    "    pos_attrs = {}                 # positions for cow labels\n",
    "    for u, xy in layout.items(): \n",
    "        pos_attrs[u] = (xy[0], xy[1] + 0.12) \n",
    "    cow_labels = {}                    \n",
    "    for u, val in nx.get_node_attributes(G, 'cow').items():\n",
    "        cow_labels[u] = '' if is_large else \"🐮 x\" + str(val) # no cow labels on large graphs; looks nicer\n",
    "    nx.draw_networkx_labels(G, pos=pos_attrs, labels=cow_labels)\n",
    "    \n",
    "    # draw edge weights\n",
    "    weight_labels = nx.get_edge_attributes(G, \"weight\")\n",
    "    nx.draw_networkx_edge_labels(G, pos=layout, edge_labels=weight_labels) \n",
    "    plt.show()"
   ]
  },
  {
   "cell_type": "markdown",
   "id": "dc0f11c7",
   "metadata": {},
   "source": [
    "## Input\n",
    "\n",
    "The first line contains the number of cows, pastures, and edges respectively. The next cow number of lines is each cow and its pasture. Followed by lines containing connected pastures and the distance between them. \n",
    "\n",
    "> 3 4 5  \n",
    "> 2  \n",
    "> 3  \n",
    "> 4  \n",
    "> 1 2 1  \n",
    "> 1 3 5  \n",
    "> 2 3 7  \n",
    "> 2 4 3  \n",
    "> 3 4 5\n",
    "\n",
    "Cows and their pasture are stored in a dictionary and an adjacency list stores the graph of pastures and connections."
   ]
  },
  {
   "cell_type": "code",
   "execution_count": 4,
   "id": "6ea6996a",
   "metadata": {},
   "outputs": [
    {
     "data": {
      "text/plain": [
       "({1: 2, 2: 3, 3: 4},\n",
       " defaultdict(list,\n",
       "             {1: [(2, 1), (3, 5)],\n",
       "              2: [(1, 1), (3, 7), (4, 3)],\n",
       "              3: [(1, 5), (2, 7), (4, 5)],\n",
       "              4: [(2, 3), (3, 5)]}))"
      ]
     },
     "execution_count": 4,
     "metadata": {},
     "output_type": "execute_result"
    }
   ],
   "source": [
    "read_input()"
   ]
  },
  {
   "cell_type": "markdown",
   "id": "b20fe462",
   "metadata": {},
   "source": [
    "Here is the sample input visualized."
   ]
  },
  {
   "cell_type": "code",
   "execution_count": 5,
   "id": "08de8c2b",
   "metadata": {
    "scrolled": false
   },
   "outputs": [
    {
     "data": {
      "image/png": "[encoded data removed]",
      "text/plain": [
       "<Figure size 432x288 with 1 Axes>"
      ]
     },
     "metadata": {},
     "output_type": "display_data"
    }
   ],
   "source": [
    "draw_graph(read_input())"
   ]
  },
  {
   "cell_type": "markdown",
   "id": "4cc0e474",
   "metadata": {},
   "source": [
    "Tougher inputs will be tested. [Test case 9](https://raw.githubusercontent.com/wilsjame/weblog/butter/docs/source/_ipynb/butter/butter9.in) is the toughest with 500 cows, 800 pastures, and 1450 connections.\n",
    "\n",
    "Here is test case 9 visualized."
   ]
  },
  {
   "cell_type": "code",
   "execution_count": 6,
   "id": "86e5440d",
   "metadata": {},
   "outputs": [],
   "source": [
    "# draw_graph(read_input('butter9.in'), is_large=True)"
   ]
  },
  {
   "cell_type": "markdown",
   "id": "ef2743fe",
   "metadata": {},
   "source": [
    "<img align=\"left\" width=\"350\" height=\"350\" src=\"butter9_resized.png\" title=\"🐮\">"
   ]
  },
  {
   "cell_type": "markdown",
   "id": "878eb2e4",
   "metadata": {},
   "source": [
    "Drawing the graph takes too long to load in some notebooks. Uncomment the line to try it or download the full-size image [butter.png](https://github.com/wilsjame/weblog/blob/butter/docs/source/_ipynb/butter/butter9.png) (18 MB).\n",
    "\n",
    "## Output\n",
    "\n",
    "Find the minimum distance cows must walk to a pasture with a sugar cube.\n",
    "\n",
    "For the sample input shown above the answer is: **8**\n",
    "\n",
    "Putting the cube in pasture 4 means: cow 1 walks 3 units; cow 2 walks 5 units; cow 3 walks 0 units -- a total of 8.\n",
    "\n",
    "For test case 9 the answer is: **164290**\n",
    "\n",
    "## Shortest Paths: Dijkstra\n",
    "\n",
    "Dijkstra's algorithm finds the shortest paths from a source node to all nodes in a graph. It's greedy and facilitates this with a priority queue. The cool thing is every node needs only be processed once. Assuming we have the graph, three data structures are used:\n",
    "\n",
    "- An array `distance[]` stores the distance from the source to every node. Every node's initial distance is infinity.\n",
    "- An array `processed[]` keeps track of processed nodes. Once a node is processed it cannot be visited again and its distance is final. Initially false for every node.\n",
    "- A priority queue `min_pq` provides the node to process next. When a node is processed its neighbors are added. Nodes are ordered by their distance value.\n",
    "\n",
    "Set the source node distance `distance[source] = 0` and add the source and its distance to the priority queue `min_pq.push((0, source))`. Now, enter a loop until the queue is empty. The loop pops the minimum distance node from the queue `cur = min_pq.pop()` and processes it `processed[cur] = True`. Sweet one less node to go! Iterate the current node's neighbors. Skip neighbors that have been processed. For neighbors not yet processed we update their distances and add them to the queue. It's greedy `distance[neighbor] = min(distance[neighbor], distance[cur] + cur_to_neighbor_edge_weight)` and `min_pq.push(distance[neighbor], neighbor)`. When the queue is empty all nodes are processed and the loop terminates. `distance[]` holds the shortest paths for each node to the source. The worst-case performance is O(E\\*log(N)) where E is the number of edges and N is the number of nodes. We visit each node at most E times and for each visit, the priority queue has at most N nodes. "
   ]
  },
  {
   "cell_type": "code",
   "execution_count": 7,
   "id": "be6dcee1",
   "metadata": {},
   "outputs": [],
   "source": [
    "def dijkstra(source: int, data: Data) -> Dist:\n",
    "    \"\"\"Find shortest paths from source to each node in adjacency graph.\"\"\"\n",
    "    _, adj = data\n",
    "    nodes = len(adj)\n",
    "    distance = dict.fromkeys([i for i in range(1, nodes + 1)], float(\"inf\"))\n",
    "    processed = dict.fromkeys([i for i in range(1, nodes + 1)], False)\n",
    "    min_pq = []\n",
    "    distance[source] = 0\n",
    "    heapq.heappush(min_pq, (0, source))                    # distance before node for heap ordering\n",
    "    while len(min_pq) > 0:\n",
    "        _, cur = heapq.heappop(min_pq)\n",
    "        processed[cur] = True\n",
    "        for neighbor in adj[cur]:\n",
    "            node, cur_to_node_dist = neighbor              # node before distance in adjacency list\n",
    "            if processed[node] is True:\n",
    "                continue\n",
    "            distance[node] = min(distance[node], distance[cur] + cur_to_node_dist)\n",
    "            heapq.heappush(min_pq, (distance[node], node)) # distance before node for heap ordering\n",
    "    return distance"
   ]
  },
  {
   "cell_type": "markdown",
   "id": "b7b79a83",
   "metadata": {},
   "source": [
    "## Solve\n",
    "\n",
    "We try each node as the sugar cube source to find the minimum distance cows must walk. Running time is O(C\\*E\\*log(N)) where C is cows, E edges, and N nodes. "
   ]
  },
  {
   "cell_type": "code",
   "execution_count": 8,
   "id": "484ff6b8",
   "metadata": {},
   "outputs": [],
   "source": [
    "def solve(data: Data) -> int:\n",
    "    \"\"\"Find the minimum distance cows must walk.\"\"\"\n",
    "    cow, adj = data\n",
    "    res = float(\"inf\")\n",
    "    nodes = len(adj)\n",
    "    for source in range(1, nodes + 1):\n",
    "        shortest_paths = dijkstra(source, data)\n",
    "        total = 0\n",
    "        for i in cow:\n",
    "            total += shortest_paths[cow[i]]\n",
    "        res = min(res, total)\n",
    "    return res"
   ]
  },
  {
   "cell_type": "code",
   "execution_count": 9,
   "id": "47d04a83",
   "metadata": {},
   "outputs": [
    {
     "data": {
      "text/plain": [
       "True"
      ]
     },
     "execution_count": 9,
     "metadata": {},
     "output_type": "execute_result"
    }
   ],
   "source": [
    "solve(read_input()) == 8"
   ]
  },
  {
   "cell_type": "code",
   "execution_count": 10,
   "id": "6be6a6d9",
   "metadata": {},
   "outputs": [
    {
     "name": "stdout",
     "output_type": "stream",
     "text": [
      "Wall time: 6.34 s\n"
     ]
    },
    {
     "data": {
      "text/plain": [
       "True"
      ]
     },
     "execution_count": 10,
     "metadata": {},
     "output_type": "execute_result"
    }
   ],
   "source": [
    "%time solve(read_input('butter9.in')) == 164290"
   ]
  },
  {
   "cell_type": "markdown",
   "id": "9f9493d6",
   "metadata": {},
   "source": [
    "### Go Fast\n",
    "\n",
    "Test case 9 isn't *the* toughest input. There is a test case 10! The USACO grader allotted runtime is 1 second. The approach discussed here has the correct run time complexity O(C\\*E\\*log(N)), but the implementation falls short and fails the <1 second mark. \n",
    "\n",
    "![test case 9 py](usaco_grader_py.png)\n",
    "\n",
    "For starters, we can speed up our Dijkstra implementation. Sometimes the queue might pop an already processed node. When this happens there is no point processing it again because its shortest distance is already set. An if statement should do the trick."
   ]
  },
  {
   "cell_type": "code",
   "execution_count": 11,
   "id": "e860aa20",
   "metadata": {},
   "outputs": [],
   "source": [
    "def dijkstra(source: int, data: Data) -> Dist:\n",
    "    \"\"\"Find shortest paths from source to each node in adjacency graph.\"\"\"\n",
    "    _, adj = data\n",
    "    nodes = len(adj)\n",
    "    distance = dict.fromkeys([i for i in range(1, nodes + 1)], float(\"inf\"))\n",
    "    processed = dict.fromkeys([i for i in range(1, nodes + 1)], False)\n",
    "    min_pq = []\n",
    "    distance[source] = 0\n",
    "    heapq.heappush(min_pq, (0, source))                        # distance before node for heap ordering\n",
    "    while len(min_pq) > 0:\n",
    "        _, cur = heapq.heappop(min_pq)\n",
    "        if processed[cur] == False: # <------------------------- speed up        \n",
    "            processed[cur] = True\n",
    "            for neighbor in adj[cur]:\n",
    "                node, cur_to_node_dist = neighbor              # node before distance in adjacency list\n",
    "                if processed[node] is True:\n",
    "                    continue\n",
    "                distance[node] = min(distance[node], distance[cur] + cur_to_node_dist)\n",
    "                heapq.heappush(min_pq, (distance[node], node)) # distance before node for heap ordering\n",
    "    return distance"
   ]
  },
  {
   "cell_type": "code",
   "execution_count": 12,
   "id": "8964c510",
   "metadata": {},
   "outputs": [
    {
     "name": "stdout",
     "output_type": "stream",
     "text": [
      "Wall time: 1.39 s\n"
     ]
    },
    {
     "data": {
      "text/plain": [
       "True"
      ]
     },
     "execution_count": 12,
     "metadata": {},
     "output_type": "execute_result"
    }
   ],
   "source": [
    "%time solve(read_input('butter9.in')) == 164290"
   ]
  },
  {
   "cell_type": "markdown",
   "id": "0fe90006",
   "metadata": {},
   "source": [
    "Sweet! A considerable speed up. Additional improvements could be writing your own Fibonacci heap discussed on the [Dijkstra\\'s algorithm](https://en.wikipedia.org/wiki/Dijkstra%27s_algorithm) wiki page or storing the graph as an adjacency matrix. Trying to optimize look-ups by using list indices and values in place of a dict hashing keys to values. Implementing other search algorithms. And of course, experimenting with different languages. \n",
    "\n",
    "![test case 10 cpp](usaco_grader_cpp.png \"On average, PyPy is 4.2 times faster than CPython!\")\n",
    "\n",
    "Don't forget, on average, PyPy is 4.2 times faster than CPython! "
   ]
  }
 ],
 "metadata": {
  "kernelspec": {
   "display_name": "Python 3 (ipykernel)",
   "language": "python",
   "name": "python3"
  },
  "language_info": {
   "codemirror_mode": {
    "name": "ipython",
    "version": 3
   },
   "file_extension": ".py",
   "mimetype": "text/x-python",
   "name": "python",
   "nbconvert_exporter": "python",
   "pygments_lexer": "ipython3",
   "version": "3.9.7"
  }
 },
 "nbformat": 4,
 "nbformat_minor": 5
}
