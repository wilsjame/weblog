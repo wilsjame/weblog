{
 "cells": [
  {
   "cell_type": "markdown",
   "id": "1fd6059d",
   "metadata": {},
   "source": [
    "# Sweet 🧈 Butter"
   ]
  },
  {
   "cell_type": "markdown",
   "id": "2ccbd039",
   "metadata": {},
   "source": [
    "Sweet Butter is a shortest paths problem by Greg Galperin from the [USACO training pages](https://train.usaco.org/):\n",
    "\n",
    "\n",
    "> *Farmer John has discovered the secret to making the sweetest butter in all of Wisconsin: sugar. By placing a sugar cube out in the pastures, he knows the cows will lick it and thus will produce super-sweet butter which can be marketed at better prices. Of course, he spends the extra money on luxuries for the cows.*\n",
    ">\n",
    ">*FJ is a sly farmer. Like Pavlov of old, he knows he can train the cows to go to a certain pasture when they hear a bell. He intends to put the sugar there and then ring the bell in the middle of the afternoon so that the evening's milking produces perfect milk.*\n",
    ">\n",
    ">*FJ knows each cow spends her time in a given pasture (not necessarily alone). Given the pasture location of the cows and a description of the paths that connect the pastures, find the pasture in which to place the sugar cube so that the total distance walked by the cows when FJ rings the bell is minimized. FJ knows the fields are connected well enough that some solution is always possible.*\n",
    "\n",
    "\n",
    "Rephrased:\n",
    "\n",
    "> Given a connected undirected weighted graph with some active nodes, find the node that minimizes the total distance taken from every active node to it.\n",
    "\n",
    "# Vocabulary\n",
    "The key concepts for this problem:\n",
    "- **Node**: pasture.\n",
    "- **Weighted Edge**: length of direct connection between two pastures. \n",
    "- **Undirected**: edges can can be traversed in both directions.\n",
    "- **Shortest Path**: minimal sum of edge weights to get from pasture A to pasture B. (Other problems may want this as number of edges or sequence of nodes taken.)\n",
    "- **Adjacency List**: a data structure to represent a [graph](https://en.wikipedia.org/wiki/Graph_%28discrete_mathematics%29). Each node *a* in the graph is assigned an [adjacency list](https://en.wikipedia.org/wiki/Adjacency_list) that consists of nodes to where there is an edge from *a*.\n",
    "- **Dijkstra's Algorithm**: an algorithm for finding the shortest paths from a starting node to all other nodes. \n",
    "\n",
    "Related concepts are:\n",
    "- **Adjacency Matrix**: a data structure to represent a graph.\n",
    "- **Floyd-Warshall Algorithm**: a shortest paths algorithm.\n",
    "\n",
    "# Imports, Types, and Utility Functions"
   ]
  },
  {
   "cell_type": "code",
   "execution_count": 274,
   "id": "4c465ed3",
   "metadata": {},
   "outputs": [],
   "source": [
    "import matplotlib.pyplot as plt\n",
    "import networkx          as nx\n",
    "import PIL\n",
    "from typing      import *\n",
    "from collections import defaultdict"
   ]
  },
  {
   "cell_type": "code",
   "execution_count": 275,
   "id": "0b205648",
   "metadata": {},
   "outputs": [],
   "source": [
    "Cow = Dict[int, int]               # A cow and its pasture\n",
    "Edge = Tuple[int, int]             # A pasture and connection length\n",
    "Adj = DefaultDict[int, List[Edge]] # Adjacency list, e.g. {1: [(2, 1), (3, 5)], 2: [(1, 1), (3, 7), (4, 3)], ...}\n",
    "Data = Tuple[Cow, Adj]             # Data read from input"
   ]
  },
  {
   "cell_type": "code",
   "execution_count": 276,
   "id": "a5e9d3c3",
   "metadata": {},
   "outputs": [],
   "source": [
    "def read_input(file: str='butter.in') -> Data:\n",
    "    \"\"\"Store cow locations and adjacency list from input data.\"\"\"\n",
    "    cow, adj = {}, defaultdict(list)\n",
    "    with open(file) as f:\n",
    "        C, V, E = map(int, f.readline().split())     # cows, vertices (nodes), edges\n",
    "        for i in range(1, C + 1):\n",
    "            cow[i] = int(f.readline())\n",
    "        for _ in range(E):\n",
    "            u, v, w = map(int, f.readline().split()) # undirected edge connecting u and v with weight w\n",
    "            adj[u].append((v, w))\n",
    "            adj[v].append((u, w))\n",
    "    return cow, adj"
   ]
  },
  {
   "cell_type": "code",
   "execution_count": 277,
   "id": "18133bf1",
   "metadata": {},
   "outputs": [],
   "source": [
    "def draw_graph(data: Data):\n",
    "    \"\"\"Visualize an adjacency list and show cows in each node.\"\"\"\n",
    "    cow, adj = data\n",
    "    G = nx.Graph()\n",
    "    for u in adj:\n",
    "        G.add_node(u, cow=0)\n",
    "        for edge in adj[u]:\n",
    "            v, w = edge[0], edge[1]\n",
    "            G.add_edge(u, v, weight=w)\n",
    "    for i in cow:\n",
    "        G.nodes[cow[i]]['cow'] += 1\n",
    "\n",
    "    # draw nodes\n",
    "    layout = nx.spring_layout(G)             # positions for all nodes\n",
    "    nx.draw(G, pos=layout, with_labels=True, node_color=\"lightgreen\")\n",
    "\n",
    "    # draw cow attribute label above nodes\n",
    "    pos_attrs = {}                           # positions for cow labels\n",
    "    for u, xy in layout.items(): \n",
    "        pos_attrs[u] = (xy[0], xy[1] + 0.0788)\n",
    "    cow_labels = {}                    \n",
    "    for u, val in nx.get_node_attributes(G, 'cow').items():\n",
    "        cow_labels[u] = \"🐮 x\" + str(val) \n",
    "    nx.draw_networkx_labels(G, pos=pos_attrs, labels=cow_labels)\n",
    "\n",
    "    # draw edge weights\n",
    "    weight_labels = nx.get_edge_attributes(G, \"weight\")\n",
    "    nx.draw_networkx_edge_labels(G, pos=layout, edge_labels=weight_labels)\n",
    "    plt.show()"
   ]
  },
  {
   "cell_type": "markdown",
   "id": "dc0f11c7",
   "metadata": {},
   "source": [
    "# Input\n",
    "Here is the sample input. Tougher inputs will be tested. An extreme scenario might have:\n",
    "\n",
    "- 500 cows\n",
    "- 800 pastures\n",
    "- 1,450 connections (each length 255)\n",
    "\n",
    "The first line contains the number of cows, pastures, and edges respectively. The next cow number of lines is each cow and their pasture. Followed by edge number of lines containing connected pastures and the distance between them. \n",
    "\n",
    ">3 4 5<br> \n",
    "2<br>\n",
    "3<br>\n",
    "4<br>\n",
    "1 2 1<br>\n",
    "1 3 5<br>\n",
    "2 3 7<br>\n",
    "2 4 3<br>\n",
    "3 4 5\n",
    "\n",
    "Cows and their pasture are stored in a dictionary and an adjacency list stores the graph of pastures and connections."
   ]
  },
  {
   "cell_type": "code",
   "execution_count": 278,
   "id": "54849f2c",
   "metadata": {},
   "outputs": [
    {
     "data": {
      "text/plain": [
       "({1: 2, 2: 3, 3: 4},\n",
       " defaultdict(list,\n",
       "             {1: [(2, 1), (3, 5)],\n",
       "              2: [(1, 1), (3, 7), (4, 3)],\n",
       "              3: [(1, 5), (2, 7), (4, 5)],\n",
       "              4: [(2, 3), (3, 5)]}))"
      ]
     },
     "execution_count": 278,
     "metadata": {},
     "output_type": "execute_result"
    }
   ],
   "source": [
    "read_input()"
   ]
  },
  {
   "cell_type": "markdown",
   "id": "3a61cbf9",
   "metadata": {},
   "source": [
    "# Visualizing input\n",
    "\n",
    "Let's draw the graph showing the pasture number, length of each connection, and grazing cows."
   ]
  },
  {
   "cell_type": "code",
   "execution_count": 279,
   "id": "08de8c2b",
   "metadata": {
    "scrolled": false
   },
   "outputs": [
    {
     "data": {
      "image/png": "[encoded data removed]",
      "text/plain": [
       "<Figure size 432x288 with 1 Axes>"
      ]
     },
     "metadata": {},
     "output_type": "display_data"
    }
   ],
   "source": [
    "draw_graph(read_input())"
   ]
  },
  {
   "cell_type": "markdown",
   "id": "d6cf619a",
   "metadata": {},
   "source": [
    "# Output"
   ]
  },
  {
   "cell_type": "markdown",
   "id": "7ecb0592",
   "metadata": {},
   "source": [
    "We want to (efficiently) find the minimum distance cows must walk to a pasture with a sugar cube.\n",
    "\n",
    "For the sample input shown above the answer is: **8**\n",
    "\n",
    "Putting the cube in pasture 4 means: cow 1 walks 3 units; cow 2 walks 5 units; cow 3 walks 0 units -- a total of 8."
   ]
  },
  {
   "cell_type": "markdown",
   "id": "54ea020a",
   "metadata": {},
   "source": [
    "\n",
    "# Shortest Paths: Dijkstra\n",
    "## sample input\n",
    "## test case 9\n",
    "# Floyd-Warshall\n",
    "## tradeoffs: memory, runtime"
   ]
  },
  {
   "cell_type": "code",
   "execution_count": null,
   "id": "33767452",
   "metadata": {},
   "outputs": [],
   "source": []
  }
 ],
 "metadata": {
  "kernelspec": {
   "display_name": "Python 3 (ipykernel)",
   "language": "python",
   "name": "python3"
  },
  "language_info": {
   "codemirror_mode": {
    "name": "ipython",
    "version": 3
   },
   "file_extension": ".py",
   "mimetype": "text/x-python",
   "name": "python",
   "nbconvert_exporter": "python",
   "pygments_lexer": "ipython3",
   "version": "3.8.8"
  }
 },
 "nbformat": 4,
 "nbformat_minor": 5
}
