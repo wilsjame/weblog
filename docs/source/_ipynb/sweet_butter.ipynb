{
 "cells": [
  {
   "cell_type": "markdown",
   "id": "1fd6059d",
   "metadata": {},
   "source": [
    "# Sweet 🧈 Butter"
   ]
  },
  {
   "cell_type": "markdown",
   "id": "2ccbd039",
   "metadata": {},
   "source": [
    "Sweet Butter is a shortest paths problem:\n",
    "\n",
    "> Farmer John (FJ) has cow pastures all connected by paths. His cows are content grazing spread about these pastures. FJ loves his cows and treats them sugar cubes! He places sugar cubes in one pasture, rings a bell, and cows moo-ve to the sugar cube pasture. Cows are keen on sugar and always take the shortest path. We will write a program to efficiently find which pasture FJ should put the sugar to minimize the total distance traveled by his cows.\n",
    "\n",
    "Rephrased:\n",
    "\n",
    "> Given a connected undirected weighted graph with some active nodes, find the node that minimizes the total distance taken from every active node to it.\n",
    "\n",
    "# Vocabulary\n",
    "The key concepts for this problem:\n",
    "- **Node**: pasture.\n",
    "- **Weighted Edge**: length of direct connection between two pastures. \n",
    "- **Undirected**: edges can can be traversed in both directions.\n",
    "- **Shortest Path**: minimal sum of edge weights to get from pasture A to pasture B. (Other problems may want this as number of edges or sequence of nodes taken.)\n",
    "- **Adjacency List**: a data structure to represent a [graph](https://en.wikipedia.org/wiki/Graph_%28discrete_mathematics%29). Each node *a* in the graph is assigned an [adjacency list](https://en.wikipedia.org/wiki/Adjacency_list) that consists of nodes to where there is an edge from *a*.\n",
    "- **Dijkstra's Algorithm**: an algorithm for finding the shortest paths from a starting node to all other nodes. \n",
    "\n",
    "Related concepts are:\n",
    "- **Adjacency Matrix**: a data structure to represent a graph.\n",
    "- **Floyd-Warshall Algorithm**: a shortest paths algorithm.\n",
    "\n",
    "# Imports, Types, and Utility Functions"
   ]
  },
  {
   "cell_type": "code",
   "execution_count": 55,
   "id": "4c465ed3",
   "metadata": {},
   "outputs": [],
   "source": [
    "import matplotlib.pyplot as plt\n",
    "import networkx          as nx\n",
    "from typing      import *\n",
    "from collections import defaultdict"
   ]
  },
  {
   "cell_type": "code",
   "execution_count": 54,
   "id": "0b205648",
   "metadata": {},
   "outputs": [],
   "source": [
    "Cow = Dict[int, int]               # A cow and its pasture\n",
    "Edge = Tuple[int, int]             # A pasture and connection length\n",
    "Adj = DefaultDict[int, List[Edge]] # Adjacency list, e.g. {1: [(2, 1), (3, 5)], 2: [(1, 1), (3, 7), (4, 3)], ...}\n",
    "Data = Tuple[Cow, Adj]             # Data read from input"
   ]
  },
  {
   "cell_type": "code",
   "execution_count": 50,
   "id": "a5e9d3c3",
   "metadata": {},
   "outputs": [],
   "source": [
    "def read_input(file: str='butter.in') -> Data:\n",
    "    cow, adj = {}, defaultdict(list)\n",
    "    with open(file) as f:\n",
    "        C, V, E = map(int, f.readline().split())     # cows, vertices (nodes), edges\n",
    "        for i in range(1, C + 1):\n",
    "            cow[i] = int(f.readline())\n",
    "        for _ in range(E):\n",
    "            u, v, w = map(int, f.readline().split()) # undirected edge connecting u and v with weight w\n",
    "            adj[u].append((v, w))\n",
    "            adj[v].append((u, w))\n",
    "    return cow, adj"
   ]
  },
  {
   "cell_type": "markdown",
   "id": "dc0f11c7",
   "metadata": {},
   "source": [
    "# Input\n",
    "Here is the sample input. Tougher inputs will be tested.\n",
    "\n",
    "The first line contains the number of cows, pastures, and edges respectively. The next cow number of lines is each cow and their pasture. Followed by edge number of lines containing connected pastures and the distance between them. \n",
    "\n",
    ">3 4 5\\\n",
    "2\\\n",
    "3\\\n",
    "4\\\n",
    "1 2 1\\\n",
    "1 3 5\\\n",
    "2 3 7\\\n",
    "2 4 3\\\n",
    "3 4 5\n",
    "\n",
    "Cows and their pasture are stored in a dictionary and an adjacency list stores the graph of pastures and connections."
   ]
  },
  {
   "cell_type": "code",
   "execution_count": 52,
   "id": "a828e524",
   "metadata": {},
   "outputs": [
    {
     "data": {
      "text/plain": [
       "({1: 2, 2: 3, 3: 4},\n",
       " defaultdict(list,\n",
       "             {1: [(2, 1), (3, 5)],\n",
       "              2: [(1, 1), (3, 7), (4, 3)],\n",
       "              3: [(1, 5), (2, 7), (4, 5)],\n",
       "              4: [(2, 3), (3, 5)]}))"
      ]
     },
     "execution_count": 52,
     "metadata": {},
     "output_type": "execute_result"
    }
   ],
   "source": [
    "read_input() "
   ]
  },
  {
   "cell_type": "markdown",
   "id": "1eafbb36",
   "metadata": {},
   "source": [
    "*Note: Cow 1 is grazing in node 2. Node 4 of the adjacency list has two connections: node 2 weighted 3 and node 3 weighted 5.*"
   ]
  },
  {
   "cell_type": "markdown",
   "id": "09f95d3b",
   "metadata": {},
   "source": [
    "# Adjacency List"
   ]
  },
  {
   "cell_type": "markdown",
   "id": "61317db1",
   "metadata": {},
   "source": [
    "It can be helpful to visualize the graph."
   ]
  },
  {
   "cell_type": "code",
   "execution_count": 97,
   "id": "08de8c2b",
   "metadata": {
    "scrolled": true
   },
   "outputs": [
    {
     "data": {
      "image/png": "[encoded data removed]",
      "text/plain": [
       "<Figure size 432x288 with 1 Axes>"
      ]
     },
     "metadata": {},
     "output_type": "display_data"
    }
   ],
   "source": [
    "cow, adj = read_input()\n",
    "G = nx.Graph()\n",
    "for u in adj:\n",
    "    for edge in adj[u]:\n",
    "        v, w = edge[0], edge[1]\n",
    "        G.add_edge(u, v, weight=w)\n",
    "layout = nx.spring_layout(G)\n",
    "nx.draw(G, pos=layout, with_labels=True)\n",
    "labels = nx.get_edge_attributes(G, \"weight\")\n",
    "nx.draw_networkx_edge_labels(G, pos=layout, edge_labels=labels)\n",
    "plt.show()\n",
    "\n",
    "#todo add custom cow nodes 🐄"
   ]
  },
  {
   "cell_type": "code",
   "execution_count": null,
   "id": "c860e0fb",
   "metadata": {},
   "outputs": [],
   "source": []
  }
 ],
 "metadata": {
  "kernelspec": {
   "display_name": "Python 3 (ipykernel)",
   "language": "python",
   "name": "python3"
  },
  "language_info": {
   "codemirror_mode": {
    "name": "ipython",
    "version": 3
   },
   "file_extension": ".py",
   "mimetype": "text/x-python",
   "name": "python",
   "nbconvert_exporter": "python",
   "pygments_lexer": "ipython3",
   "version": "3.8.8"
  }
 },
 "nbformat": 4,
 "nbformat_minor": 5
}
